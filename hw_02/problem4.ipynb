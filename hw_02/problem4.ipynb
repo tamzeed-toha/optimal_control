{
 "cells": [
  {
   "cell_type": "code",
   "execution_count": 1,
   "metadata": {},
   "outputs": [],
   "source": [
    "import numpy as np\n",
    "import matplotlib.pyplot as plt\n",
    "import pandas as pd\n",
    "import sympy as sp\n",
    "import scipy as sc\n",
    "\n",
    "from sympy import symbols, Eq, solve, simplify\n",
    "from pprint import pprint\n",
    "from IPython.display import display, Math"
   ]
  },
  {
   "cell_type": "code",
   "execution_count": 13,
   "metadata": {},
   "outputs": [
    {
     "data": {
      "text/latex": [
       "$\\displaystyle system\\ dynamics: x_{k+1} = a x_{k} + b u_{k}$"
      ],
      "text/plain": [
       "<IPython.core.display.Math object>"
      ]
     },
     "metadata": {},
     "output_type": "display_data"
    },
    {
     "data": {
      "text/latex": [
       "$\\displaystyle \\lambda_{N}$"
      ],
      "text/plain": [
       "lambda_N"
      ]
     },
     "execution_count": 13,
     "metadata": {},
     "output_type": "execute_result"
    }
   ],
   "source": [
    "x_k = symbols('x_k')\n",
    "x_k1 = symbols('x_{k+1}')\n",
    "x_N = symbols('x_N')\n",
    "a = symbols('a')\n",
    "b = symbols('b')\n",
    "u_k = symbols('u_k')\n",
    "u_star = symbols('u^*')\n",
    "r = symbols('r')\n",
    "Jnot = symbols('J_{not}')\n",
    "J2 = symbols('J_2')\n",
    "k = symbols('k')\n",
    "N = symbols('N')\n",
    "i_sympy = symbols('i')\n",
    "H_k = symbols('H^k')\n",
    "cost_L = symbols('L^k')\n",
    "lmda = symbols('lambda')\n",
    "lmda_k = symbols(f'lambda_{k}')\n",
    "lmda_k1 = symbols(f'lambda_{k}+1')\n",
    "lmda_N = symbols(f'lambda_{N}')\n",
    "phi = symbols('phi')\n",
    "\n",
    "\n",
    "N_val = 5\n",
    "a_val = 2\n",
    "b_val = 1\n",
    "x_0 = 3\n",
    "r_N = 0\n",
    "r_val = 1\n",
    "\n",
    "def f(x, u):\n",
    "    val = a*x + b*u\n",
    "    return val\n",
    "\n",
    "\n",
    "display(Math(r'system\\ dynamics: x_{k+1} = ' + sp.latex(f(x_k, u_k))))\n",
    "\n",
    "f(x_k, u_k)\n",
    "\n",
    "lmda_N"
   ]
  },
  {
   "cell_type": "markdown",
   "metadata": {},
   "source": [
    "## part a \n",
    "finding the homogeneous solution of the differential equation\n",
    "\n",
    "$$\n",
    "\\begin{align*}\n",
    "x_{k+1} &= 2x_k  \\\\\n",
    "x_k &= 2^k x_0\n",
    "\\end{align*}\n",
    "$$\n"
   ]
  },
  {
   "cell_type": "code",
   "execution_count": 11,
   "metadata": {},
   "outputs": [
    {
     "data": {
      "text/plain": [
       "Text(0.5, 1.0, 'State Trajectory with zero input')"
      ]
     },
     "execution_count": 11,
     "metadata": {},
     "output_type": "execute_result"
    },
    {
     "data": {
      "image/png": "[encoded data removed]",
      "text/plain": [
       "<Figure size 640x480 with 1 Axes>"
      ]
     },
     "metadata": {},
     "output_type": "display_data"
    }
   ],
   "source": [
    "xk = x_0\n",
    "state_values = [xk]\n",
    "\n",
    "for _ in range(N_val):\n",
    "    x_kplus1 = f(xk, 0)            # this is zero input response\n",
    "    xk = x_kplus1.subs(a, a_val).subs(b, b_val)\n",
    "    state_values.append(xk)\n",
    "\n",
    "plt.plot(state_values)\n",
    "plt.xlabel('Time')\n",
    "plt.ylabel('State Value')\n",
    "plt.title('State Trajectory with zero input')"
   ]
  },
  {
   "cell_type": "markdown",
   "metadata": {},
   "source": [
    "## part b\n",
    "### fixed final state"
   ]
  },
  {
   "cell_type": "code",
   "execution_count": 4,
   "metadata": {},
   "outputs": [
    {
     "name": "stdout",
     "output_type": "stream",
     "text": [
      "Cost function: \n"
     ]
    },
    {
     "data": {
      "text/latex": [
       "$\\displaystyle J_{not} = \\frac{r \\sum_{k=0}^{N - 1} u_{k}^{2}}{2}$"
      ],
      "text/plain": [
       "<IPython.core.display.Math object>"
      ]
     },
     "metadata": {},
     "output_type": "display_data"
    },
    {
     "name": "stdout",
     "output_type": "stream",
     "text": [
      "Hamiltonian: \n"
     ]
    },
    {
     "data": {
      "text/latex": [
       "$\\displaystyle H^{k} = L^{k} + \\lambda_{k+1} \\left(a x_{k} + b u_{k}\\right)$"
      ],
      "text/plain": [
       "<IPython.core.display.Math object>"
      ]
     },
     "metadata": {},
     "output_type": "display_data"
    },
    {
     "data": {
      "text/latex": [
       "$\\displaystyle H^{k} = L^{k} + \\lambda_{k+1} \\left(u_{k} + 2 x_{k}\\right)$"
      ],
      "text/plain": [
       "<IPython.core.display.Math object>"
      ]
     },
     "metadata": {},
     "output_type": "display_data"
    },
    {
     "data": {
      "text/latex": [
       "$\\displaystyle H^{k} = \\lambda_{k+1} \\left(u_{k} + 2 x_{k}\\right) + \\frac{u_{k}^{2}}{2}$"
      ],
      "text/plain": [
       "<IPython.core.display.Math object>"
      ]
     },
     "metadata": {},
     "output_type": "display_data"
    },
    {
     "name": "stdout",
     "output_type": "stream",
     "text": [
      "State update equation: \n"
     ]
    },
    {
     "data": {
      "text/latex": [
       "$\\displaystyle x_{k+1} = u_{k} + 2 x_{k}$"
      ],
      "text/plain": [
       "<IPython.core.display.Math object>"
      ]
     },
     "metadata": {},
     "output_type": "display_data"
    },
    {
     "data": {
      "text/latex": [
       "$\\displaystyle \\lambda_{k} = 2 \\lambda_{k+1}$"
      ],
      "text/plain": [
       "<IPython.core.display.Math object>"
      ]
     },
     "metadata": {},
     "output_type": "display_data"
    },
    {
     "data": {
      "text/latex": [
       "$\\displaystyle 0 = \\lambda_{k+1} + u_{k}$"
      ],
      "text/plain": [
       "<IPython.core.display.Math object>"
      ]
     },
     "metadata": {},
     "output_type": "display_data"
    },
    {
     "name": "stdout",
     "output_type": "stream",
     "text": [
      "Control update equation: \n"
     ]
    },
    {
     "data": {
      "text/latex": [
       "$\\displaystyle x_{k+1} = - \\lambda_{k+1} + 2 x_{k}$"
      ],
      "text/plain": [
       "<IPython.core.display.Math object>"
      ]
     },
     "metadata": {},
     "output_type": "display_data"
    },
    {
     "data": {
      "text/latex": [
       "$\\displaystyle \\lambda_{k} = 2^{5 - k} \\lambda_{N}$"
      ],
      "text/plain": [
       "<IPython.core.display.Math object>"
      ]
     },
     "metadata": {},
     "output_type": "display_data"
    },
    {
     "data": {
      "text/latex": [
       "$\\displaystyle \\lambda_k = 2^{5 - k} \\lambda_{N}$"
      ],
      "text/plain": [
       "<IPython.core.display.Math object>"
      ]
     },
     "metadata": {},
     "output_type": "display_data"
    },
    {
     "data": {
      "text/latex": [
       "$\\displaystyle x_{k+1} = - \\frac{2^{5 - k} \\lambda_{N}}{2} + 2 x_{k}$"
      ],
      "text/plain": [
       "<IPython.core.display.Math object>"
      ]
     },
     "metadata": {},
     "output_type": "display_data"
    }
   ],
   "source": [
    "print(\"Cost function: \")\n",
    "Jnot = r/2 * sp.Sum(u_k**2, (k, 0, N-1))\n",
    "display(Math(r'J_{not} = ' + sp.latex(Jnot)))\n",
    "\n",
    "print(\"Hamiltonian: \")\n",
    "\n",
    "eq1 = Eq(H_k, cost_L + lmda_k1 * f(x_k, u_k))\n",
    "display(Math(sp.latex(eq1)))\n",
    "\n",
    "eq1 = eq1.subs(a, a_val).subs(b, b_val)\n",
    "display(Math(sp.latex(eq1)))\n",
    "\n",
    "eq1 = eq1.subs(cost_L, r/2 * u_k**2).subs(r, r_val)\n",
    "display(Math(sp.latex(eq1)))\n",
    "\n",
    "hamiltonian = solve(eq1, H_k)[0]\n",
    "\n",
    "eq2 = Eq(x_k1, sp.diff(hamiltonian, lmda_k1))\n",
    "eq3 = Eq(lmda_k, sp.diff(hamiltonian, x_k))\n",
    "eq4 = Eq(0, sp.diff(hamiltonian, u_k))\n",
    "\n",
    "print(\"State update equation: \")\n",
    "display(Math(sp.latex(eq2)))\n",
    "display(Math(sp.latex(eq3)))\n",
    "display(Math(sp.latex(eq4)))\n",
    "\n",
    "print(\"Control update equation: \")\n",
    "uk = solve(eq4, u_k)[0]\n",
    "xk_1 = solve(eq2, x_k1)[0].subs(u_k, uk)\n",
    "display(Math(sp.latex(Eq(x_k1, xk_1))))\n",
    "eq5 = Eq(lmda_k, sp.Pow(a, N-k) * lmda_N).subs(N, N_val).subs(a, a_val).subs(b, b_val)\n",
    "display(Math(sp.latex(eq5)))\n",
    "lmdak = solve(eq5, lmda_k)[0].subs(N, N_val).subs(a, a_val).subs(b, b_val)\n",
    "display(Math(r'\\lambda_k = ' + sp.latex(lmdak)))\n",
    "\n",
    "xk_1 = xk_1.subs(lmda_k1, solve(eq3, lmda_k1)[0]).subs(lmda_k, lmdak)\n",
    "display(Math(sp.latex(Eq(x_k1, xk_1))))"
   ]
  },
  {
   "cell_type": "code",
   "execution_count": 5,
   "metadata": {},
   "outputs": [
    {
     "data": {
      "text/latex": [
       "$\\displaystyle 3 a^{k} - \\frac{a^{N - k} b^{2} \\lambda_{N} \\left(1 - a^{2 k}\\right)}{r \\left(1 - a^{2}\\right)} = x_{N}$"
      ],
      "text/plain": [
       "<IPython.core.display.Math object>"
      ]
     },
     "metadata": {},
     "output_type": "display_data"
    },
    {
     "data": {
      "text/latex": [
       "$\\displaystyle \\lambda_{N} = \\frac{96}{341} - \\frac{x_{N}}{341}$"
      ],
      "text/plain": [
       "<IPython.core.display.Math object>"
      ]
     },
     "metadata": {},
     "output_type": "display_data"
    },
    {
     "data": {
      "text/latex": [
       "$\\displaystyle u^{*} = - \\lambda_{N}$"
      ],
      "text/plain": [
       "<IPython.core.display.Math object>"
      ]
     },
     "metadata": {},
     "output_type": "display_data"
    },
    {
     "data": {
      "text/latex": [
       "$\\displaystyle u^{*} = - \\lambda_{N}$"
      ],
      "text/plain": [
       "<IPython.core.display.Math object>"
      ]
     },
     "metadata": {},
     "output_type": "display_data"
    },
    {
     "name": "stdout",
     "output_type": "stream",
     "text": [
      "Value of lambda_N:  96/341\n"
     ]
    }
   ],
   "source": [
    "# xx = x_0\n",
    "# for i in range(N_val):\n",
    "#     xx = xk_1.subs(x_k, xx).subs(k, i+1)\n",
    "\n",
    "xx = a**k*x_0 - b**2/r * lmda_N * a**(N-k) * (1-a**(2*k)) / (1-a**2)\n",
    "\n",
    "eq6 = Eq(xx, x_N)\n",
    "display(Math(sp.latex(eq6)))\n",
    "\n",
    "lmdaN = solve(eq6, lmda_N)[0]\n",
    "lmdaN = lmdaN.subs(a, a_val).subs(b, b_val).subs(r, r_val).subs(k, N_val).subs(N, N_val)\n",
    "display(Math(sp.latex(Eq(lmda_N, lmdaN))))\n",
    "\n",
    "eq7 = Eq(u_star, uk.subs(lmda_k1, lmda_N))\n",
    "display(Math(sp.latex(eq7)))\n",
    "ustar = solve(eq7, u_star)[0]\n",
    "display(Math(sp.latex(Eq(u_star, ustar))))\n",
    "\n",
    "lamda_N_val = lmdaN.subs(x_N, r_N)\n",
    "print(\"Value of lambda_N: \", lamda_N_val)\n",
    "\n",
    "lambda_k_values = []\n",
    "for i in range(N_val):\n",
    "    val = lmdak.subs(k, i+1).subs(lmda_N, lamda_N_val)\n",
    "    lambda_k_values.append((val))\n",
    "    \n",
    "u_star_values = []    \n",
    "for i in range(N_val):\n",
    "    val = uk.subs(lmda_k1, lambda_k_values[i]) \n",
    "    u_star_values.append(val)\n",
    "u_star_values.append(0)\n"
   ]
  },
  {
   "cell_type": "code",
   "execution_count": 12,
   "metadata": {},
   "outputs": [
    {
     "data": {
      "text/plain": [
       "Text(0.5, 1.0, 'fixed final state')"
      ]
     },
     "execution_count": 12,
     "metadata": {},
     "output_type": "execute_result"
    },
    {
     "data": {
      "image/png": "[encoded data removed]",
      "text/plain": [
       "<Figure size 640x480 with 1 Axes>"
      ]
     },
     "metadata": {},
     "output_type": "display_data"
    }
   ],
   "source": [
    "xk = x_0\n",
    "state_values = [xk]\n",
    "\n",
    "for i in range(N_val):\n",
    "    x_kplus1 = f(xk, u_star_values[i])\n",
    "    xk = x_kplus1.subs(a, a_val).subs(b, b_val)\n",
    "    state_values.append(xk)\n",
    "\n",
    "plt.plot(state_values)\n",
    "plt.xlabel('Time')\n",
    "plt.ylabel('State Value')\n",
    "plt.axhline(y=r_N, color='r', linestyle='--', alpha=0.25)\n",
    "plt.title('fixed final state')"
   ]
  },
  {
   "cell_type": "markdown",
   "metadata": {},
   "source": [
    "## part c\n",
    "### free final state"
   ]
  },
  {
   "cell_type": "code",
   "execution_count": 56,
   "metadata": {},
   "outputs": [
    {
     "data": {
      "text/latex": [
       "$\\displaystyle J_2 = \\frac{r \\sum_{k=0}^{N - 1} u_{k}^{2}}{2} + 5 x_{N}^{2}$"
      ],
      "text/plain": [
       "<IPython.core.display.Math object>"
      ]
     },
     "metadata": {},
     "output_type": "display_data"
    },
    {
     "data": {
      "text/latex": [
       "$\\displaystyle 0.5 x_{N}^{2}$"
      ],
      "text/plain": [
       "<IPython.core.display.Math object>"
      ]
     },
     "metadata": {},
     "output_type": "display_data"
    },
    {
     "data": {
      "text/latex": [
       "$\\displaystyle \\lambda_{N} = 1.0 x_{N}$"
      ],
      "text/plain": [
       "<IPython.core.display.Math object>"
      ]
     },
     "metadata": {},
     "output_type": "display_data"
    },
    {
     "data": {
      "text/latex": [
       "$\\displaystyle \\lambda_{N} = \\frac{96}{341} - \\frac{x_{N}}{341}$"
      ],
      "text/plain": [
       "<IPython.core.display.Math object>"
      ]
     },
     "metadata": {},
     "output_type": "display_data"
    },
    {
     "data": {
      "text/latex": [
       "$\\displaystyle 1.0 x_{N} = \\frac{96}{341} - \\frac{x_{N}}{341}$"
      ],
      "text/plain": [
       "<IPython.core.display.Math object>"
      ]
     },
     "metadata": {},
     "output_type": "display_data"
    },
    {
     "data": {
      "text/plain": [
       "Text(0.5, 1.0, 'free final state')"
      ]
     },
     "execution_count": 56,
     "metadata": {},
     "output_type": "execute_result"
    },
    {
     "data": {
      "image/png": "[encoded data removed]",
      "text/plain": [
       "<Figure size 640x480 with 1 Axes>"
      ]
     },
     "metadata": {},
     "output_type": "display_data"
    }
   ],
   "source": [
    "J2 = 5*(x_N - r_N)**2 + r/2 * sp.Sum(u_k**2, (k, 0, N-1))\n",
    "display(Math(r'J_2 = ' + sp.latex(J2)))\n",
    "\n",
    "phi_1 = 1/2 * (x_N - r_N)**2\n",
    "display(Math(sp.latex(phi_1)))\n",
    "\n",
    "eq8 = Eq(lmda_N, sp.diff(phi_1, x_N))\n",
    "eq9 = Eq(lmda_N, lmdaN)\n",
    "display(Math(sp.latex(eq8)))\n",
    "display(Math(sp.latex(eq9)))\n",
    "\n",
    "eq10 = Eq(eq8.rhs, eq9.rhs)\n",
    "display(Math(sp.latex(eq10)))\n",
    "free_xn_val = solve(eq10, x_N)\n",
    "\n",
    "free_lamda_n_val = solve(eq8, lmda_N)[0].subs(x_N, free_xn_val[0])\n",
    "\n",
    "lambda_k_values = []\n",
    "for i in range(N_val):\n",
    "    val = lmdak.subs(k, i+1).subs(lmda_N, free_lamda_n_val)\n",
    "    lambda_k_values.append((val))\n",
    "    \n",
    "u_star_values = []    \n",
    "for i in range(N_val):\n",
    "    val = uk.subs(lmda_k1, lambda_k_values[i]) \n",
    "    u_star_values.append(val)\n",
    "u_star_values.append(0)\n",
    "\n",
    "xk = x_0\n",
    "state_values = [xk]\n",
    "for i in range(N_val):\n",
    "    x_kplus1 = f(xk, u_star_values[i])\n",
    "    xk = x_kplus1.subs(a, a_val).subs(b, b_val)\n",
    "    state_values.append(xk)\n",
    "\n",
    "\n",
    "plt.plot(state_values)\n",
    "plt.xlabel('Time')\n",
    "plt.ylabel('State Value')\n",
    "plt.axhline(y=r_N, color='r', linestyle='--', alpha=0.25)\n",
    "plt.title('free final state')"
   ]
  },
  {
   "cell_type": "code",
   "execution_count": null,
   "metadata": {},
   "outputs": [],
   "source": []
  }
 ],
 "metadata": {
  "kernelspec": {
   "display_name": ".venv",
   "language": "python",
   "name": "python3"
  },
  "language_info": {
   "codemirror_mode": {
    "name": "ipython",
    "version": 3
   },
   "file_extension": ".py",
   "mimetype": "text/x-python",
   "name": "python",
   "nbconvert_exporter": "python",
   "pygments_lexer": "ipython3",
   "version": "3.10.12"
  }
 },
 "nbformat": 4,
 "nbformat_minor": 2
}
