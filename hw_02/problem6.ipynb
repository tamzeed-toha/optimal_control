{
 "cells": [
  {
   "cell_type": "code",
   "execution_count": 68,
   "metadata": {},
   "outputs": [],
   "source": [
    "# !pip install numpy pandas matplotlib sympy scipy"
   ]
  },
  {
   "cell_type": "code",
   "execution_count": 69,
   "metadata": {},
   "outputs": [],
   "source": [
    "import numpy as np\n",
    "import matplotlib.pyplot as plt\n",
    "import pandas as pd\n",
    "import sympy as sp\n",
    "import scipy as sc\n",
    "\n",
    "from sympy import symbols, Eq, solve, simplify, MatrixSymbol\n",
    "from pprint import pprint\n",
    "from IPython.display import display, Math"
   ]
  },
  {
   "cell_type": "code",
   "execution_count": 70,
   "metadata": {},
   "outputs": [
    {
     "name": "stdout",
     "output_type": "stream",
     "text": [
      "the system dynamics are:\n"
     ]
    },
    {
     "data": {
      "text/latex": [
       "$\\displaystyle A x_{k} + B u_{k}$"
      ],
      "text/plain": [
       "<IPython.core.display.Math object>"
      ]
     },
     "metadata": {},
     "output_type": "display_data"
    },
    {
     "name": "stdout",
     "output_type": "stream",
     "text": [
      "the cost function is:\n"
     ]
    },
    {
     "data": {
      "text/latex": [
       "$\\displaystyle J_0 = S_{N} x_{N} + \\sum_{k=0}^{N - 1} \\left(Q x_{k} + R u_{k}\\right)$"
      ],
      "text/plain": [
       "<IPython.core.display.Math object>"
      ]
     },
     "metadata": {},
     "output_type": "display_data"
    }
   ],
   "source": [
    "n_states = 1\n",
    "\n",
    "\n",
    "x_k = sp.MatrixSymbol('x_k', n_states, 1)\n",
    "x_kplus1 = sp.MatrixSymbol('x_{k+1}', n_states, 1)\n",
    "x_0 = sp.MatrixSymbol('x_0', n_states, 1)\n",
    "x_N = sp.MatrixSymbol('x_N', n_states, 1)\n",
    "a = sp.MatrixSymbol('A', n_states, n_states)\n",
    "b = sp.MatrixSymbol('B', n_states, n_states)\n",
    "u_k = sp.MatrixSymbol('u_k', n_states, 1)\n",
    "u_star = sp.MatrixSymbol('u^*', n_states, 1)\n",
    "k = symbols('k')\n",
    "N = symbols('N')\n",
    "i_sympy = symbols('i')\n",
    "cost_L = symbols('L^k')\n",
    "lmda_k = sp.MatrixSymbol(f'lambda_{k}', n_states, 1)\n",
    "lmda_kplus1 = sp.MatrixSymbol(f'lambda_{k+1}', n_states, 1)\n",
    "lmda_N = sp.MatrixSymbol(f'lambda_{N}', n_states, 1)\n",
    "R = sp.MatrixSymbol('R', n_states, n_states)\n",
    "G_n = sp.MatrixSymbol('G_n', n_states, n_states)\n",
    "r_N = sp.MatrixSymbol('r_N', n_states, 1)\n",
    "S_k = sp.MatrixSymbol('S_k', n_states, n_states)\n",
    "S_kplus1 = sp.MatrixSymbol('S_{k+1}', n_states, n_states)\n",
    "S_N = sp.MatrixSymbol('S_N', n_states, n_states)\n",
    "Q = sp.MatrixSymbol('Q', n_states, n_states)\n",
    "\n",
    "\n",
    "\n",
    "## Define the system dynamics\n",
    "N_val = 2\n",
    "a_val = sp.Matrix([[-1/2, 1/2], [3, -1]])\n",
    "b_val = sp.Matrix([[2, 1], [2, 0]])\n",
    "R_val = sp.Matrix([[2, 0], [0, 1]])\n",
    "x0 = sp.Matrix([8, 4])\n",
    "rN = sp.Matrix([0, 0])\n",
    "r_val = 1\n",
    "input_cost = Q * x_k + R * u_k\n",
    "Q_val = sp.Matrix([[1, 0], [0, 1]])  * 1\n",
    "Sn_val = 20 * sp.eye(n_states)\n",
    "\n",
    "\n",
    "Jnot = sp.Sum(input_cost, (k, 0, N-1))\n",
    "phi = S_N * x_N\n",
    "\n",
    "\n",
    "\n",
    "def f(x, u):\n",
    "    val = a*x + b*u\n",
    "    return val\n",
    "\n",
    "print(\"the system dynamics are:\")\n",
    "display(Math(sp.latex(f(x_k, u_k))))\n",
    "print(\"the cost function is:\")\n",
    "display(Math(r'J_0 = ' + sp.latex(phi) + ' + ' + sp.latex(Jnot)))"
   ]
  },
  {
   "cell_type": "markdown",
   "metadata": {},
   "source": [
    "## hamiltonian "
   ]
  },
  {
   "cell_type": "code",
   "execution_count": 71,
   "metadata": {},
   "outputs": [
    {
     "name": "stdout",
     "output_type": "stream",
     "text": [
      "path cost:\n"
     ]
    },
    {
     "data": {
      "text/latex": [
       "$\\displaystyle L_{k} = \\sum_{k=0}^{N - 1} \\left(Q x_{k} + R u_{k}\\right)$"
      ],
      "text/plain": [
       "<IPython.core.display.Math object>"
      ]
     },
     "metadata": {},
     "output_type": "display_data"
    },
    {
     "name": "stdout",
     "output_type": "stream",
     "text": [
      "terminal cost:\n"
     ]
    },
    {
     "data": {
      "text/latex": [
       "$\\displaystyle \\phi = S_{N} x_{N}$"
      ],
      "text/plain": [
       "<IPython.core.display.Math object>"
      ]
     },
     "metadata": {},
     "output_type": "display_data"
    },
    {
     "name": "stdout",
     "output_type": "stream",
     "text": [
      "so, the hamioltonian is:\n"
     ]
    },
    {
     "data": {
      "text/latex": [
       "$\\displaystyle H^k = Q x_{k} + R u_{k} + \\lambda_{k + 1}^{T} \\left(A x_{k} + B u_{k}\\right)$"
      ],
      "text/plain": [
       "<IPython.core.display.Math object>"
      ]
     },
     "metadata": {},
     "output_type": "display_data"
    },
    {
     "name": "stdout",
     "output_type": "stream",
     "text": [
      "the costate equation is:\n"
     ]
    },
    {
     "data": {
      "text/latex": [
       "$\\displaystyle \\frac{dH^k}{dx_k} = A^{T} \\lambda_{k + 1} + Q^{T} = \\lambda_{k}$"
      ],
      "text/plain": [
       "<IPython.core.display.Math object>"
      ]
     },
     "metadata": {},
     "output_type": "display_data"
    },
    {
     "name": "stdout",
     "output_type": "stream",
     "text": [
      "the state equation is:\n"
     ]
    },
    {
     "data": {
      "text/latex": [
       "$\\displaystyle \\frac{dH^k}{d\\lambda_{k+1}} = x_{k+1} =A x_{k} + B u_{k}$"
      ],
      "text/plain": [
       "<IPython.core.display.Math object>"
      ]
     },
     "metadata": {},
     "output_type": "display_data"
    },
    {
     "name": "stdout",
     "output_type": "stream",
     "text": [
      "the stationarity equation is:\n"
     ]
    },
    {
     "data": {
      "text/latex": [
       "$\\displaystyle \\frac{dH^k}{du_k} = 0 =B^{T} \\lambda_{k + 1} + R^{T}$"
      ],
      "text/plain": [
       "<IPython.core.display.Math object>"
      ]
     },
     "metadata": {},
     "output_type": "display_data"
    },
    {
     "data": {
      "text/latex": [
       "$\\displaystyle \\lambda_{k + 1} = - \\left(B^{T}\\right)^{-1} R$"
      ],
      "text/plain": [
       "<IPython.core.display.Math object>"
      ]
     },
     "metadata": {},
     "output_type": "display_data"
    },
    {
     "name": "stdout",
     "output_type": "stream",
     "text": [
      "relation between state and costate:\n"
     ]
    },
    {
     "data": {
      "text/latex": [
       "$\\displaystyle \\frac{d\\phi}{dx_N} = S_{N}^{T} = \\lambda_{N}$"
      ],
      "text/plain": [
       "<IPython.core.display.Math object>"
      ]
     },
     "metadata": {},
     "output_type": "display_data"
    },
    {
     "name": "stdout",
     "output_type": "stream",
     "text": [
      "so,\n"
     ]
    },
    {
     "data": {
      "text/latex": [
       "$\\displaystyle A^{T} \\left(- \\left(B^{T}\\right)^{-1} R\\right) + Q^{T} = \\lambda_{k}$"
      ],
      "text/plain": [
       "<IPython.core.display.Math object>"
      ]
     },
     "metadata": {},
     "output_type": "display_data"
    }
   ],
   "source": [
    "\n",
    "print(\"path cost:\")\n",
    "display(Math(r'L_{k} = ' + sp.latex(Jnot)))\n",
    "print(\"terminal cost:\")\n",
    "display(Math(r'\\phi = ' + sp.latex(phi)))\n",
    "\n",
    "print(\"so, the hamioltonian is:\")\n",
    "H_k = input_cost + lmda_kplus1.T * (f(x_k, u_k))\n",
    "display(Math(r'H^k = ' + sp.latex(H_k)))\n",
    "\n",
    "print(\"the costate equation is:\")\n",
    "costate_eqn = sp.diff(H_k, x_k)\n",
    "costate_eqn = Eq(costate_eqn, lmda_k)\n",
    "display(Math(r'\\frac{dH^k}{dx_k} = ' + sp.latex(costate_eqn)) )\n",
    "\n",
    "print(\"the state equation is:\")\n",
    "state_eqn = sp.diff(H_k, lmda_kplus1)\n",
    "display(Math(r'\\frac{dH^k}{d\\lambda_{k+1}} = x_{k+1} =' + sp.latex(state_eqn)) )\n",
    "\n",
    "print(\"the stationarity equation is:\")\n",
    "stationarity_eqn = sp.diff(H_k, u_k)\n",
    "display(Math(r'\\frac{dH^k}{du_k} = 0 =' + sp.latex(stationarity_eqn)) )\n",
    "lmdak1 = -(b.T)**-1 * R \n",
    "stationarity_eqn = Eq(lmda_kplus1, lmdak1)\n",
    "display(Math(sp.latex(stationarity_eqn)))\n",
    "\n",
    "print(\"relation between state and costate:\")\n",
    "state_costate_eqn = sp.diff(phi, x_N)\n",
    "state_costate_eqn = Eq(state_costate_eqn, lmda_N)\n",
    "display(Math(r'\\frac{d\\phi}{dx_N} = ' + sp.latex(state_costate_eqn)))\n",
    "\n",
    "print(\"so,\")\n",
    "display(Math(sp.latex(costate_eqn.subs(lmda_kplus1, lmdak1))))"
   ]
  },
  {
   "cell_type": "markdown",
   "metadata": {},
   "source": [
    "There are multiple issues with these set of equations. The state and costates are usually bound by $S_N$. But in this case, it only depends on the costate value $\\lambda_N$. The costate value is constant for all time steps. The relationship between costate $(\\lambda_k)$ and input $(u_k)$ is not defined and so we cant really know how to optimize the input."
   ]
  },
  {
   "cell_type": "code",
   "execution_count": null,
   "metadata": {},
   "outputs": [],
   "source": []
  },
  {
   "cell_type": "code",
   "execution_count": null,
   "metadata": {},
   "outputs": [],
   "source": []
  }
 ],
 "metadata": {
  "kernelspec": {
   "display_name": ".venv",
   "language": "python",
   "name": "python3"
  },
  "language_info": {
   "codemirror_mode": {
    "name": "ipython",
    "version": 3
   },
   "file_extension": ".py",
   "mimetype": "text/x-python",
   "name": "python",
   "nbconvert_exporter": "python",
   "pygments_lexer": "ipython3",
   "version": "3.10.12"
  }
 },
 "nbformat": 4,
 "nbformat_minor": 2
}
